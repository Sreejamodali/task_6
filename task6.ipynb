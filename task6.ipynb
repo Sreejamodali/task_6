{
 "cells": [
  {
   "cell_type": "code",
   "execution_count": 1,
   "id": "28bb9c11",
   "metadata": {},
   "outputs": [],
   "source": [
    "import numpy as np\n",
    "import pandas as pd\n",
    "from sklearn.linear_model import LinearRegression\n",
    "import matplotlib.pyplot as plt"
   ]
  },
  {
   "cell_type": "code",
   "execution_count": 35,
   "id": "29206c9a",
   "metadata": {},
   "outputs": [
    {
     "data": {
      "text/html": [
       "<div>\n",
       "<style scoped>\n",
       "    .dataframe tbody tr th:only-of-type {\n",
       "        vertical-align: middle;\n",
       "    }\n",
       "\n",
       "    .dataframe tbody tr th {\n",
       "        vertical-align: top;\n",
       "    }\n",
       "\n",
       "    .dataframe thead th {\n",
       "        text-align: right;\n",
       "    }\n",
       "</style>\n",
       "<table border=\"1\" class=\"dataframe\">\n",
       "  <thead>\n",
       "    <tr style=\"text-align: right;\">\n",
       "      <th></th>\n",
       "      <th>Brain</th>\n",
       "      <th>Body</th>\n",
       "    </tr>\n",
       "  </thead>\n",
       "  <tbody>\n",
       "    <tr>\n",
       "      <th>0</th>\n",
       "      <td>3.385</td>\n",
       "      <td>44.5</td>\n",
       "    </tr>\n",
       "    <tr>\n",
       "      <th>1</th>\n",
       "      <td>0.480</td>\n",
       "      <td>15.5</td>\n",
       "    </tr>\n",
       "    <tr>\n",
       "      <th>2</th>\n",
       "      <td>1.350</td>\n",
       "      <td>8.1</td>\n",
       "    </tr>\n",
       "    <tr>\n",
       "      <th>3</th>\n",
       "      <td>465.000</td>\n",
       "      <td>423.0</td>\n",
       "    </tr>\n",
       "    <tr>\n",
       "      <th>4</th>\n",
       "      <td>36.330</td>\n",
       "      <td>119.5</td>\n",
       "    </tr>\n",
       "  </tbody>\n",
       "</table>\n",
       "</div>"
      ],
      "text/plain": [
       "     Brain   Body\n",
       "0    3.385   44.5\n",
       "1    0.480   15.5\n",
       "2    1.350    8.1\n",
       "3  465.000  423.0\n",
       "4   36.330  119.5"
      ]
     },
     "execution_count": 35,
     "metadata": {},
     "output_type": "execute_result"
    }
   ],
   "source": [
    "path=r\"C:\\Users\\SREEJA.M\\Downloads\\brain_body.txt\"\n",
    "df = pd.read_fwf(path)\n",
    "df.head()"
   ]
  },
  {
   "cell_type": "markdown",
   "id": "d7721a63",
   "metadata": {},
   "source": [
    "1. \n",
    "Find the linear regression equation for this data for brain weight to body weight"
   ]
  },
  {
   "cell_type": "code",
   "execution_count": 36,
   "id": "caadabb9",
   "metadata": {},
   "outputs": [],
   "source": [
    "X_train = df['Brain'].values.reshape(-1,1)\n",
    "Y_train = df['Body'].values.reshape(-1,1)\n",
    "\n",
    "# Linear Equation:\n",
    "reg_LR = LinearRegression()\n",
    "reg_LR.fit(X_train, Y_train)\n",
    "Y_predict = reg_LR.predict(X_train)"
   ]
  },
  {
   "cell_type": "markdown",
   "id": "a83695ab",
   "metadata": {},
   "source": [
    "2. Chart the original data and the equation on the chart"
   ]
  },
  {
   "cell_type": "code",
   "execution_count": 38,
   "id": "e0b25f7b",
   "metadata": {},
   "outputs": [
    {
     "data": {
      "text/plain": [
       "[<matplotlib.lines.Line2D at 0x1e0eb86b8b0>]"
      ]
     },
     "execution_count": 38,
     "metadata": {},
     "output_type": "execute_result"
    },
    {
     "data": {
      "image/png": "[encoded data removed]",
      "text/plain": [
       "<Figure size 432x288 with 1 Axes>"
      ]
     },
     "metadata": {
      "needs_background": "light"
     },
     "output_type": "display_data"
    }
   ],
   "source": [
    "plt.scatter(x=X_train, y=Y_train)\n",
    "plt.plot(X_train, Y_predict, color='red')"
   ]
  },
  {
   "cell_type": "markdown",
   "id": "2a63ee91",
   "metadata": {},
   "source": [
    "3. Find the equation's  R2  score (use the .score method) to determine whether the equation is a good fit for this data. (0.8 and greater is considered a strong correlation.)\n"
   ]
  },
  {
   "cell_type": "code",
   "execution_count": 39,
   "id": "c5d0d37e",
   "metadata": {},
   "outputs": [
    {
     "data": {
      "text/plain": [
       "0.8726620843043331"
      ]
     },
     "execution_count": 39,
     "metadata": {},
     "output_type": "execute_result"
    }
   ],
   "source": [
    "reg_LR.score(X_train, Y_train) # Good fit"
   ]
  },
  {
   "cell_type": "code",
   "execution_count": null,
   "id": "b2f7502d",
   "metadata": {},
   "outputs": [],
   "source": []
  }
 ],
 "metadata": {
  "kernelspec": {
   "display_name": "Python 3 (ipykernel)",
   "language": "python",
   "name": "python3"
  },
  "language_info": {
   "codemirror_mode": {
    "name": "ipython",
    "version": 3
   },
   "file_extension": ".py",
   "mimetype": "text/x-python",
   "name": "python",
   "nbconvert_exporter": "python",
   "pygments_lexer": "ipython3",
   "version": "3.9.7"
  }
 },
 "nbformat": 4,
 "nbformat_minor": 5
}
